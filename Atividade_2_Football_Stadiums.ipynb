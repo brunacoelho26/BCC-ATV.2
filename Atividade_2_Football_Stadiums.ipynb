{
  "nbformat": 4,
  "nbformat_minor": 0,
  "metadata": {
    "colab": {
      "name": "Atividade 2  - Football Stadiums",
      "provenance": [],
      "collapsed_sections": [],
      "authorship_tag": "ABX9TyMSIy//gVJ+J51yZxOUvNIj",
      "include_colab_link": true
    },
    "kernelspec": {
      "name": "python3",
      "display_name": "Python 3"
    }
  },
  "cells": [
    {
      "cell_type": "markdown",
      "metadata": {
        "id": "view-in-github",
        "colab_type": "text"
      },
      "source": [
        "<a href=\"https://colab.research.google.com/github/brunacoelho26/BCC-ATV.2/blob/main/Atividade_2_Football_Stadiums.ipynb\" target=\"_parent\"><img src=\"https://colab.research.google.com/assets/colab-badge.svg\" alt=\"Open In Colab\"/></a>"
      ]
    },
    {
      "cell_type": "code",
      "metadata": {
        "id": "8uawagL0l_Mf"
      },
      "source": [
        "import pandas as pd"
      ],
      "execution_count": 3,
      "outputs": []
    },
    {
      "cell_type": "code",
      "metadata": {
        "id": "xjo0sJmNmBCh"
      },
      "source": [
        "df = pd.read_csv(\"https://raw.githubusercontent.com/brunacoelho26/BCC-ATV.2/main/Football%20Stadiums.csv\", sep=\",\")"
      ],
      "execution_count": 4,
      "outputs": []
    },
    {
      "cell_type": "code",
      "metadata": {
        "id": "X8oik0CWmFPI",
        "outputId": "724e320f-f3a6-4a1e-d9f7-e3770a77f73a",
        "colab": {
          "base_uri": "https://localhost:8080/",
          "height": 419
        }
      },
      "source": [
        "df"
      ],
      "execution_count": 6,
      "outputs": [
        {
          "output_type": "execute_result",
          "data": {
            "text/html": [
              "<div>\n",
              "<style scoped>\n",
              "    .dataframe tbody tr th:only-of-type {\n",
              "        vertical-align: middle;\n",
              "    }\n",
              "\n",
              "    .dataframe tbody tr th {\n",
              "        vertical-align: top;\n",
              "    }\n",
              "\n",
              "    .dataframe thead th {\n",
              "        text-align: right;\n",
              "    }\n",
              "</style>\n",
              "<table border=\"1\" class=\"dataframe\">\n",
              "  <thead>\n",
              "    <tr style=\"text-align: right;\">\n",
              "      <th></th>\n",
              "      <th>Confederation</th>\n",
              "      <th>Stadium</th>\n",
              "      <th>City</th>\n",
              "      <th>HomeTeams</th>\n",
              "      <th>Capacity</th>\n",
              "      <th>Country</th>\n",
              "      <th>IOC</th>\n",
              "      <th>Population</th>\n",
              "    </tr>\n",
              "  </thead>\n",
              "  <tbody>\n",
              "    <tr>\n",
              "      <th>0</th>\n",
              "      <td>UEFA</td>\n",
              "      <td>Stadiumi Besëlidhja</td>\n",
              "      <td>Lezhë</td>\n",
              "      <td>Besëlidhja</td>\n",
              "      <td>7000.0</td>\n",
              "      <td>Albania</td>\n",
              "      <td>ALB</td>\n",
              "      <td>2876591.0</td>\n",
              "    </tr>\n",
              "    <tr>\n",
              "      <th>1</th>\n",
              "      <td>UEFA</td>\n",
              "      <td>Stadiumi Flamurtari</td>\n",
              "      <td>Vlorë</td>\n",
              "      <td>Flamurtari Vlorë</td>\n",
              "      <td>8200.0</td>\n",
              "      <td>Albania</td>\n",
              "      <td>ALB</td>\n",
              "      <td>2876591.0</td>\n",
              "    </tr>\n",
              "    <tr>\n",
              "      <th>2</th>\n",
              "      <td>UEFA</td>\n",
              "      <td>Stadiumi Laçi</td>\n",
              "      <td>Laçi</td>\n",
              "      <td>KF Laçi</td>\n",
              "      <td>5000.0</td>\n",
              "      <td>Albania</td>\n",
              "      <td>ALB</td>\n",
              "      <td>2876591.0</td>\n",
              "    </tr>\n",
              "    <tr>\n",
              "      <th>3</th>\n",
              "      <td>UEFA</td>\n",
              "      <td>Stadiumi Niko Dovana</td>\n",
              "      <td>Durrës</td>\n",
              "      <td>Teuta</td>\n",
              "      <td>12040.0</td>\n",
              "      <td>Albania</td>\n",
              "      <td>ALB</td>\n",
              "      <td>2876591.0</td>\n",
              "    </tr>\n",
              "    <tr>\n",
              "      <th>4</th>\n",
              "      <td>UEFA,Stadiumi Selman Stërmasi,Tirana,\"KF Tiran...</td>\n",
              "      <td>NaN</td>\n",
              "      <td>NaN</td>\n",
              "      <td>NaN</td>\n",
              "      <td>NaN</td>\n",
              "      <td>NaN</td>\n",
              "      <td>NaN</td>\n",
              "      <td>NaN</td>\n",
              "    </tr>\n",
              "    <tr>\n",
              "      <th>...</th>\n",
              "      <td>...</td>\n",
              "      <td>...</td>\n",
              "      <td>...</td>\n",
              "      <td>...</td>\n",
              "      <td>...</td>\n",
              "      <td>...</td>\n",
              "      <td>...</td>\n",
              "      <td>...</td>\n",
              "    </tr>\n",
              "    <tr>\n",
              "      <th>2019</th>\n",
              "      <td>UEFA</td>\n",
              "      <td>Liberty Stadium</td>\n",
              "      <td>Swansea</td>\n",
              "      <td>Swansea City</td>\n",
              "      <td>21088.0</td>\n",
              "      <td>Wales</td>\n",
              "      <td>WAL</td>\n",
              "      <td>3125000.0</td>\n",
              "    </tr>\n",
              "    <tr>\n",
              "      <th>2020</th>\n",
              "      <td>UEFA,Parc y Scarlets,Llanelli,\"Scarlets, Llane...</td>\n",
              "      <td>NaN</td>\n",
              "      <td>NaN</td>\n",
              "      <td>NaN</td>\n",
              "      <td>NaN</td>\n",
              "      <td>NaN</td>\n",
              "      <td>NaN</td>\n",
              "      <td>NaN</td>\n",
              "    </tr>\n",
              "    <tr>\n",
              "      <th>2021</th>\n",
              "      <td>UEFA</td>\n",
              "      <td>Park Avenue</td>\n",
              "      <td>Aberystwyth</td>\n",
              "      <td>Aberystwyth Town</td>\n",
              "      <td>5000.0</td>\n",
              "      <td>Wales</td>\n",
              "      <td>WAL</td>\n",
              "      <td>3125000.0</td>\n",
              "    </tr>\n",
              "    <tr>\n",
              "      <th>2022</th>\n",
              "      <td>UEFA</td>\n",
              "      <td>Principality Stadium</td>\n",
              "      <td>Cardiff</td>\n",
              "      <td>-</td>\n",
              "      <td>74500.0</td>\n",
              "      <td>Wales</td>\n",
              "      <td>WAL</td>\n",
              "      <td>3125000.0</td>\n",
              "    </tr>\n",
              "    <tr>\n",
              "      <th>2023</th>\n",
              "      <td>UEFA</td>\n",
              "      <td>Racecourse Ground</td>\n",
              "      <td>Wrexham</td>\n",
              "      <td>Wrexham AFC</td>\n",
              "      <td>15850.0</td>\n",
              "      <td>Wales</td>\n",
              "      <td>WAL</td>\n",
              "      <td>3125000.0</td>\n",
              "    </tr>\n",
              "  </tbody>\n",
              "</table>\n",
              "<p>2024 rows × 8 columns</p>\n",
              "</div>"
            ],
            "text/plain": [
              "                                          Confederation  ... Population\n",
              "0                                                  UEFA  ...  2876591.0\n",
              "1                                                  UEFA  ...  2876591.0\n",
              "2                                                  UEFA  ...  2876591.0\n",
              "3                                                  UEFA  ...  2876591.0\n",
              "4     UEFA,Stadiumi Selman Stërmasi,Tirana,\"KF Tiran...  ...        NaN\n",
              "...                                                 ...  ...        ...\n",
              "2019                                               UEFA  ...  3125000.0\n",
              "2020  UEFA,Parc y Scarlets,Llanelli,\"Scarlets, Llane...  ...        NaN\n",
              "2021                                               UEFA  ...  3125000.0\n",
              "2022                                               UEFA  ...  3125000.0\n",
              "2023                                               UEFA  ...  3125000.0\n",
              "\n",
              "[2024 rows x 8 columns]"
            ]
          },
          "metadata": {
            "tags": []
          },
          "execution_count": 6
        }
      ]
    }
  ]
}